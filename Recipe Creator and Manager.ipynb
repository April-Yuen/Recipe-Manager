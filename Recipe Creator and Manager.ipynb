{
 "cells": [
  {
   "cell_type": "code",
   "execution_count": 92,
   "id": "c6f05387",
   "metadata": {},
   "outputs": [
    {
     "name": "stdout",
     "output_type": "stream",
     "text": [
      "Please write the name of a recipe.: galbi\n",
      "Please write the protein used in your recipe: beef\n"
     ]
    }
   ],
   "source": [
    "recipe_name = input(\"Please write the name of a recipe.: \")\n",
    "recipe_protein = input('Please write the protein used in your recipe: ')\n",
    "\n",
    "recipe_entered = (recipe_name,recipe_protein)"
   ]
  },
  {
   "cell_type": "code",
   "execution_count": 99,
   "id": "99afe135",
   "metadata": {},
   "outputs": [
    {
     "name": "stdout",
     "output_type": "stream",
     "text": [
      "('galbi', 'beef')\n"
     ]
    }
   ],
   "source": [
    "print(recipe_entered)"
   ]
  },
  {
   "cell_type": "code",
   "execution_count": 78,
   "id": "50ad305e",
   "metadata": {},
   "outputs": [],
   "source": [
    "class Recipes:\n",
    "    \n",
    "    #Class attributes go here and they apply to all things in the class. \n",
    "    recipe_count = 0\n",
    "    \n",
    "    def __init__(self,name,meat):\n",
    "        #instance attributes go here and they vary depending on the recipe. \n",
    "        print('Recipes can be organized by ingredients.')\n",
    "        self.name = name\n",
    "        self.meat = meat\n",
    "        Recipes.recipe_count+=1\n",
    "    \n",
    "    def display_count(self):\n",
    "        return f'Total recipes: {Recipes.recipe_count}'\n",
    "    \n",
    "    def display_recipes(self):\n",
    "        return f'Recipe Name: {self.name} and Type: {self.meat}'\n",
    "        \n",
    "    \n"
   ]
  },
  {
   "cell_type": "code",
   "execution_count": 79,
   "id": "e30d23c4",
   "metadata": {},
   "outputs": [
    {
     "name": "stdout",
     "output_type": "stream",
     "text": [
      "Recipes can be organized by ingredients.\n"
     ]
    }
   ],
   "source": [
    "recipe1=Recipes('Galbi','beef')"
   ]
  },
  {
   "cell_type": "code",
   "execution_count": 80,
   "id": "603a2b87",
   "metadata": {},
   "outputs": [
    {
     "data": {
      "text/plain": [
       "'Total recipes: 1'"
      ]
     },
     "execution_count": 80,
     "metadata": {},
     "output_type": "execute_result"
    }
   ],
   "source": [
    "recipe1.display_count()"
   ]
  },
  {
   "cell_type": "code",
   "execution_count": 81,
   "id": "cb90ea8a",
   "metadata": {},
   "outputs": [
    {
     "data": {
      "text/plain": [
       "'Recipe Name: Galbi and Type: beef'"
      ]
     },
     "execution_count": 81,
     "metadata": {},
     "output_type": "execute_result"
    }
   ],
   "source": [
    "recipe1.display_recipes()"
   ]
  },
  {
   "cell_type": "code",
   "execution_count": 82,
   "id": "8d3549b2",
   "metadata": {},
   "outputs": [
    {
     "name": "stdout",
     "output_type": "stream",
     "text": [
      "Recipes can be organized by ingredients.\n"
     ]
    }
   ],
   "source": [
    "recipe2 = Recipes('Dakjjim', 'chicken')"
   ]
  },
  {
   "cell_type": "code",
   "execution_count": 83,
   "id": "dd358a2f",
   "metadata": {},
   "outputs": [
    {
     "data": {
      "text/plain": [
       "'Total recipes: 2'"
      ]
     },
     "execution_count": 83,
     "metadata": {},
     "output_type": "execute_result"
    }
   ],
   "source": [
    "recipe2.display_count()"
   ]
  },
  {
   "cell_type": "code",
   "execution_count": 84,
   "id": "7b94021b",
   "metadata": {},
   "outputs": [
    {
     "data": {
      "text/plain": [
       "'Recipe Name: Dakjjim and Type: chicken'"
      ]
     },
     "execution_count": 84,
     "metadata": {},
     "output_type": "execute_result"
    }
   ],
   "source": [
    "recipe2.display_recipes()"
   ]
  },
  {
   "cell_type": "code",
   "execution_count": 85,
   "id": "4af1130b",
   "metadata": {},
   "outputs": [
    {
     "name": "stdout",
     "output_type": "stream",
     "text": [
      "Recipes can be organized by ingredients.\n"
     ]
    }
   ],
   "source": [
    "recipe3 = Recipes('Tangsuyuk','pork')"
   ]
  },
  {
   "cell_type": "code",
   "execution_count": 86,
   "id": "0adeab47",
   "metadata": {},
   "outputs": [
    {
     "data": {
      "text/plain": [
       "'Total recipes: 3'"
      ]
     },
     "execution_count": 86,
     "metadata": {},
     "output_type": "execute_result"
    }
   ],
   "source": [
    "recipe3.display_count()"
   ]
  },
  {
   "cell_type": "code",
   "execution_count": 87,
   "id": "544f982d",
   "metadata": {},
   "outputs": [
    {
     "data": {
      "text/plain": [
       "'Recipe Name: Tangsuyuk and Type: pork'"
      ]
     },
     "execution_count": 87,
     "metadata": {},
     "output_type": "execute_result"
    }
   ],
   "source": [
    "recipe3.display_recipes()"
   ]
  },
  {
   "cell_type": "code",
   "execution_count": 108,
   "id": "cfa8fe45",
   "metadata": {},
   "outputs": [],
   "source": [
    "class Beef:\n",
    "    \n",
    "    def __init__(self): \n",
    "        self.beef = []\n",
    "        for recipe in recipe_entered:\n",
    "            if recipe_protein == Beef:\n",
    "                self.meat.append(Recipes(name,meat))\n",
    "                \n",
    "    def display_beef_recipes(self):\n",
    "        return f' The {self.name} recipe has been added to the Beef list.'"
   ]
  },
  {
   "cell_type": "code",
   "execution_count": 111,
   "id": "5e0946c1",
   "metadata": {},
   "outputs": [
    {
     "name": "stdout",
     "output_type": "stream",
     "text": [
      "Recipes can be organized by ingredients.\n"
     ]
    }
   ],
   "source": [
    "recipe4 = Recipes('bulgogi', 'beef')"
   ]
  },
  {
   "cell_type": "code",
   "execution_count": 112,
   "id": "0cca933c",
   "metadata": {},
   "outputs": [
    {
     "data": {
      "text/plain": [
       "'Total recipes: 4'"
      ]
     },
     "execution_count": 112,
     "metadata": {},
     "output_type": "execute_result"
    }
   ],
   "source": [
    "recipe4.display_count()"
   ]
  },
  {
   "cell_type": "code",
   "execution_count": 115,
   "id": "82b5adc0",
   "metadata": {},
   "outputs": [
    {
     "data": {
      "text/plain": [
       "type"
      ]
     },
     "execution_count": 115,
     "metadata": {},
     "output_type": "execute_result"
    }
   ],
   "source": []
  },
  {
   "cell_type": "code",
   "execution_count": null,
   "id": "ed023757",
   "metadata": {},
   "outputs": [],
   "source": []
  },
  {
   "cell_type": "code",
   "execution_count": 22,
   "id": "8d8250cf",
   "metadata": {},
   "outputs": [],
   "source": [
    "class Pork(Recipes):\n",
    "    pass"
   ]
  },
  {
   "cell_type": "code",
   "execution_count": 23,
   "id": "e9895f5c",
   "metadata": {},
   "outputs": [],
   "source": [
    "class Chicken(Recipes):\n",
    "    pass"
   ]
  },
  {
   "cell_type": "code",
   "execution_count": null,
   "id": "ce1a416e",
   "metadata": {},
   "outputs": [],
   "source": [
    "class Fish(Recipes):\n",
    "    pass"
   ]
  }
 ],
 "metadata": {
  "kernelspec": {
   "display_name": "Python 3",
   "language": "python",
   "name": "python3"
  },
  "language_info": {
   "codemirror_mode": {
    "name": "ipython",
    "version": 3
   },
   "file_extension": ".py",
   "mimetype": "text/x-python",
   "name": "python",
   "nbconvert_exporter": "python",
   "pygments_lexer": "ipython3",
   "version": "3.8.8"
  }
 },
 "nbformat": 4,
 "nbformat_minor": 5
}
